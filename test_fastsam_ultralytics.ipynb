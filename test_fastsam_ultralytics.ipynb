{
 "cells": [
  {
   "cell_type": "code",
   "execution_count": null,
   "id": "1d66c301",
   "metadata": {},
   "outputs": [],
   "source": [
    "from ultralytics import FastSAM\n",
    "import numpy as np\n",
    "import cv2\n",
    "import matplotlib.pyplot as plt"
   ]
  },
  {
   "cell_type": "code",
   "execution_count": null,
   "id": "623898f8",
   "metadata": {},
   "outputs": [],
   "source": [
    "model = FastSAM(\"FastSAM-s.pt\") #FastSAM(\"FastSAM-x.pt\")\n",
    "model.info()"
   ]
  },
  {
   "cell_type": "code",
   "execution_count": null,
   "id": "f0549d03",
   "metadata": {},
   "outputs": [],
   "source": [
    "everything_results = model(\"dogs.jpg\", device=\"cpu\", retina_masks=True, imgsz=1024, conf=0.4, iou=0.9)"
   ]
  },
  {
   "cell_type": "code",
   "execution_count": null,
   "id": "c51a20b5",
   "metadata": {},
   "outputs": [],
   "source": [
    "res = everything_results[0]"
   ]
  },
  {
   "cell_type": "code",
   "execution_count": null,
   "id": "8ad74683",
   "metadata": {},
   "outputs": [],
   "source": [
    "# Original image\n",
    "img = res.orig_img.copy()\n",
    "\n",
    "# Get the masks (N, H, W)\n",
    "masks = res.masks.data.cpu().numpy()\n",
    "\n",
    "# Create an overlay for all masks\n",
    "overlay = img.copy()\n",
    "\n",
    "# Generate a random color for each mask\n",
    "for i, mask in enumerate(masks):\n",
    "    color = np.random.randint(0, 255, (3,), dtype=np.uint8)\n",
    "    colored_mask = np.stack([mask * c for c in color], axis=-1).astype(np.uint8)\n",
    "    overlay = cv2.addWeighted(overlay, 1.0, colored_mask, 0.5, 0)\n",
    "\n",
    "# Plot result\n",
    "plt.figure(figsize=(10, 10))\n",
    "plt.imshow(cv2.cvtColor(overlay, cv2.COLOR_BGR2RGB))\n",
    "plt.axis(\"off\")\n",
    "plt.title(\"Segmentation Masks (FastSAM)\")\n",
    "plt.show()"
   ]
  },
  {
   "cell_type": "code",
   "execution_count": null,
   "id": "e20062e2",
   "metadata": {},
   "outputs": [],
   "source": [
    "import cv2\n",
    "import numpy as np\n",
    "import matplotlib.pyplot as plt\n",
    "from ultralytics import FastSAM\n",
    "\n",
    "# Load model and run inference\n",
    "model = FastSAM(\"FastSAM-x.pt\")\n",
    "results = model(\"rgb_fast_sam_test.tif\", device=\"cpu\", retina_masks=True, imgsz=512, conf=0.3, iou=0.9)\n",
    "\n",
    "# Get first result (for one image)\n",
    "res = results[0]\n",
    "img = res.orig_img.copy()\n",
    "\n",
    "# Convert to color if grayscale\n",
    "if len(img.shape) == 2 or img.shape[2] == 1:\n",
    "    img = cv2.cvtColor(img, cv2.COLOR_GRAY2BGR)\n",
    "\n",
    "# Get masks\n",
    "masks = res.masks.data.cpu().numpy()\n",
    "\n",
    "# Draw contours on a copy of the original image\n",
    "outline_img = img.copy()\n",
    "\n",
    "for mask in masks:\n",
    "    mask_uint8 = (mask * 255).astype(np.uint8)\n",
    "    contours, _ = cv2.findContours(mask_uint8, cv2.RETR_EXTERNAL, cv2.CHAIN_APPROX_SIMPLE)\n",
    "    color = tuple(np.random.randint(0, 255, size=3).tolist())\n",
    "    cv2.drawContours(outline_img, contours, -1, color, thickness=2)\n",
    "\n",
    "# Plot\n",
    "plt.figure(figsize=(10, 10))\n",
    "plt.imshow(cv2.cvtColor(outline_img, cv2.COLOR_BGR2RGB))\n",
    "plt.axis(\"off\")\n",
    "plt.title(\"Segmentation Outlines (FastSAM)\")\n",
    "plt.show()\n"
   ]
  },
  {
   "cell_type": "code",
   "execution_count": null,
   "id": "a32d8095",
   "metadata": {},
   "outputs": [],
   "source": [
    "# Test Mobile SAM?\n",
    "\n",
    "from ultralytics.models.sam import Predictor as SAMPredictor\n",
    "\n",
    "overrides = dict(task=\"segment\", mode=\"predict\", imgsz=1024, model=\"mobile_sam.pt\")\n",
    "predictor = SAMPredictor(overrides=overrides)\n",
    "\n",
    "predictor.set_image(\"rgb_fast_sam_test.tif\")\n",
    "\n",
    "results = predictor()\n",
    "\n",
    "# Get first result (for one image)\n",
    "res = results[0]\n",
    "img = res.orig_img.copy()\n",
    "\n",
    "# Convert to color if grayscale\n",
    "if len(img.shape) == 2 or img.shape[2] == 1:\n",
    "    img = cv2.cvtColor(img, cv2.COLOR_GRAY2BGR)\n",
    "\n",
    "# Get masks\n",
    "masks = res.masks.data.cpu().numpy()\n",
    "\n",
    "# Draw contours on a copy of the original image\n",
    "outline_img = img.copy()\n",
    "\n",
    "for mask in masks:\n",
    "    mask_uint8 = (mask * 255).astype(np.uint8)\n",
    "    contours, _ = cv2.findContours(mask_uint8, cv2.RETR_EXTERNAL, cv2.CHAIN_APPROX_SIMPLE)\n",
    "    color = tuple(np.random.randint(0, 255, size=3).tolist())\n",
    "    cv2.drawContours(outline_img, contours, -1, color, thickness=2)\n",
    "\n",
    "# Plot\n",
    "plt.figure(figsize=(10, 10))\n",
    "plt.imshow(cv2.cvtColor(outline_img, cv2.COLOR_BGR2RGB))\n",
    "plt.axis(\"off\")\n",
    "plt.title(\"Segmentation Outlines (FastSAM)\")\n",
    "plt.show()\n"
   ]
  },
  {
   "cell_type": "code",
   "execution_count": null,
   "id": "d4f54123",
   "metadata": {},
   "outputs": [],
   "source": [
    "help(SAM.predict)"
   ]
  },
  {
   "cell_type": "code",
   "execution_count": null,
   "id": "8d92661a",
   "metadata": {},
   "outputs": [],
   "source": [
    "import leafmap\n",
    "\n",
    "m = leafmap.Map(center=[56.02437988, -2.76394275], zoom=17)\n",
    "#m.add_basemap(\"SATELLITE\")\n",
    "#m.layers[-1].visible = False\n",
    "m.add_raster(\"test_s2_3bands.tif\", layer_name=\"Image\")\n",
    "m"
   ]
  }
 ],
 "metadata": {
  "kernelspec": {
   "display_name": "Python 3",
   "language": "python",
   "name": "python3"
  },
  "language_info": {
   "codemirror_mode": {
    "name": "ipython",
    "version": 3
   },
   "file_extension": ".py",
   "mimetype": "text/x-python",
   "name": "python",
   "nbconvert_exporter": "python",
   "pygments_lexer": "ipython3",
   "version": "3.12.4"
  }
 },
 "nbformat": 4,
 "nbformat_minor": 5
}
